{
 "cells": [
  {
   "cell_type": "markdown",
   "id": "ebb558ca",
   "metadata": {},
   "source": [
    "# My Jupyter Notebook on IBM Watson Studio"
   ]
  },
  {
   "cell_type": "markdown",
   "id": "a57e048c",
   "metadata": {},
   "source": [
    "__Jalal EL MEDAGHRI EL ALAOUI__<br>Data Scientist"
   ]
  },
  {
   "cell_type": "markdown",
   "id": "9882fa0e",
   "metadata": {},
   "source": [
    "_I am interested in Data Science because I am curious and I want to learn modern methods and technics to improve productivity of my future company thanks to data mining and data visualization_"
   ]
  },
  {
   "cell_type": "markdown",
   "id": "acf62480",
   "metadata": {},
   "source": [
    "### The following Python code will retrun the square of a number (9 as an example):"
   ]
  },
  {
   "cell_type": "code",
   "execution_count": 5,
   "id": "c6362190",
   "metadata": {},
   "outputs": [
    {
     "data": {
      "text/plain": [
       "81"
      ]
     },
     "execution_count": 5,
     "metadata": {},
     "output_type": "execute_result"
    }
   ],
   "source": [
    "def square(x):\n",
    "    return(x**2)\n",
    "square(9) "
   ]
  },
  {
   "cell_type": "markdown",
   "id": "67a890ff",
   "metadata": {},
   "source": [
    "\n",
    "***\n",
    "Thanks for your attention\n",
    "***\n",
    "\n",
    "- A data scientist is:\n",
    "    - Curious\n",
    "    - A good storyteller\n",
    "    - A valuabale problem-solver\n",
    "\n",
    "***\n",
    "> __[link to IBM Website](http://www.ibm.com)__\n"
   ]
  }
 ],
 "metadata": {
  "kernelspec": {
   "display_name": "Python 3 (ipykernel)",
   "language": "python",
   "name": "python3"
  },
  "language_info": {
   "codemirror_mode": {
    "name": "ipython",
    "version": 3
   },
   "file_extension": ".py",
   "mimetype": "text/x-python",
   "name": "python",
   "nbconvert_exporter": "python",
   "pygments_lexer": "ipython3",
   "version": "3.9.12"
  }
 },
 "nbformat": 4,
 "nbformat_minor": 5
}
